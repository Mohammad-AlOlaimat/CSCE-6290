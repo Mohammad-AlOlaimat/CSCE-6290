{
 "cells": [
  {
   "cell_type": "code",
   "execution_count": 222,
   "metadata": {},
   "outputs": [],
   "source": [
    "# Import necessary lib\n",
    "import numpy as np\n",
    "from pandas import read_csv\n",
    "import pandas as pd\n",
    "import random\n",
    "from keras.preprocessing.sequence import pad_sequences\n",
    "from keras.models import Sequential, Model\n",
    "from sklearn.model_selection import GridSearchCV\n",
    "from keras.wrappers.scikit_learn import KerasClassifier\n",
    "from sklearn.model_selection import train_test_split\n",
    "from sklearn.model_selection import KFold\n",
    "from scipy import stats\n",
    "import seaborn\n",
    "import matplotlib.pyplot as plt\n",
    "from sklearn import metrics\n",
    "from sklearn.metrics import confusion_matrix\n",
    "from sklearn.metrics import fbeta_score,accuracy_score,f1_score,roc_auc_score\n",
    "from keras.regularizers import l1, l2\n",
    "from keras.layers import Bidirectional\n",
    "from keras.layers import Dense, SimpleRNN, concatenate, Input\n",
    "from keras.layers.recurrent import GRU\n",
    "from keras.layers import Dropout \n",
    "from keras.layers import LSTM\n",
    "from keras.layers import RepeatVector\n",
    "from keras.layers import TimeDistributed\n",
    "from keras.layers import Masking\n",
    "import tensorflow as tf\n",
    "import keras"
   ]
  },
  {
   "cell_type": "code",
   "execution_count": 223,
   "metadata": {},
   "outputs": [],
   "source": [
    "# Global variables\n",
    "num_features_in_each_time_step = 8\n",
    "time_steps = 0\n",
    "demographic_features = 5"
   ]
  },
  {
   "cell_type": "code",
   "execution_count": 224,
   "metadata": {},
   "outputs": [],
   "source": [
    "# Train data\n",
    "file1_train = 'ADNI_Time_Points_1_Train.csv'\n",
    "file2_train = 'ADNI_Time_Points_2_Train.csv'\n",
    "file3_train = 'ADNI_Time_Points_3_Train.csv'\n",
    "file4_train = 'ADNI_Time_Points_4_Train.csv'\n",
    "file5_train = 'ADNI_Time_Points_5_Train.csv'\n",
    "file6_train = 'ADNI_Time_Points_6_Train.csv'\n",
    "file7_train = 'ADNI_Time_Points_7_Train.csv'\n",
    "file8_train = 'ADNI_Time_Points_8_Train.csv'\n",
    "file9_train = 'ADNI_Time_Points_9_Train.csv'\n",
    "file10_train = 'ADNI_Time_Points_10_Train.csv'\n",
    "file11_train = 'ADNI_Time_Points_11_Train.csv'\n",
    "file12_train = 'ADNI_Time_Points_12_Train.csv'\n",
    "file13_train = 'ADNI_Time_Points_13_Train.csv'\n",
    "file14_train = 'ADNI_Time_Points_14_Train.csv'\n",
    "file15_train = 'ADNI_Time_Points_15_Train.csv'\n",
    "file16_train = 'ADNI_Time_Points_16_Train.csv'\n",
    "file17_train = 'ADNI_Time_Points_17_Train.csv'\n",
    "file18_train = 'ADNI_Time_Points_18_Train.csv'\n",
    "file19_train = 'ADNI_Time_Points_19_Train.csv'\n",
    "file20_train = 'ADNI_Time_Points_20_Train.csv'\n",
    "file21_train = 'ADNI_Time_Points_21_Train.csv'"
   ]
  },
  {
   "cell_type": "code",
   "execution_count": 225,
   "metadata": {},
   "outputs": [],
   "source": [
    "# Test data\n",
    "file1_test = 'ADNI_Time_Points_1_Test.csv'\n",
    "file2_test = 'ADNI_Time_Points_2_Test.csv'\n",
    "file3_test = 'ADNI_Time_Points_3_Test.csv'\n",
    "file4_test = 'ADNI_Time_Points_4_Test.csv'\n",
    "file5_test = 'ADNI_Time_Points_5_Test.csv'\n",
    "file6_test = 'ADNI_Time_Points_6_Test.csv'\n",
    "file7_test = 'ADNI_Time_Points_7_Test.csv'\n",
    "file8_test = 'ADNI_Time_Points_8_Test.csv'\n",
    "file9_test = 'ADNI_Time_Points_9_Test.csv'\n",
    "file10_test = 'ADNI_Time_Points_10_Test.csv'\n",
    "file11_test = 'ADNI_Time_Points_11_Test.csv'\n",
    "file12_test = 'ADNI_Time_Points_12_Test.csv'\n",
    "file13_test = 'ADNI_Time_Points_13_Test.csv'\n",
    "file14_test = 'ADNI_Time_Points_14_Test.csv'\n",
    "file15_test = 'ADNI_Time_Points_15_Test.csv'\n",
    "file16_test = 'ADNI_Time_Points_16_Test.csv'\n",
    "file17_test = 'ADNI_Time_Points_17_Test.csv'\n",
    "file18_test = 'ADNI_Time_Points_18_Test.csv'\n",
    "file19_test = 'ADNI_Time_Points_19_Test.csv'\n",
    "file20_test = 'ADNI_Time_Points_20_Test.csv'\n",
    "file21_test = 'ADNI_Time_Points_21_Test.csv'"
   ]
  },
  {
   "cell_type": "code",
   "execution_count": 226,
   "metadata": {},
   "outputs": [],
   "source": [
    "# Train dfs\n",
    "df1_train = read_csv(file1_train,header=0)\n",
    "df2_train = read_csv(file2_train,header=0)\n",
    "df3_train = read_csv(file3_train,header=0)\n",
    "df4_train = read_csv(file4_train,header=0)\n",
    "df5_train = read_csv(file5_train,header=0)\n",
    "df6_train = read_csv(file6_train,header=0)\n",
    "df7_train = read_csv(file7_train,header=0)\n",
    "df8_train = read_csv(file8_train,header=0)\n",
    "df9_train = read_csv(file9_train,header=0)\n",
    "df10_train = read_csv(file10_train,header=0)\n",
    "df11_train = read_csv(file11_train,header=0)\n",
    "df12_train = read_csv(file12_train,header=0)\n",
    "df13_train = read_csv(file13_train,header=0)\n",
    "df14_train = read_csv(file14_train,header=0)\n",
    "df15_train = read_csv(file15_train,header=0)\n",
    "df16_train = read_csv(file16_train,header=0)\n",
    "df17_train = read_csv(file17_train,header=0)\n",
    "df18_train = read_csv(file18_train,header=0)\n",
    "df19_train = read_csv(file19_train,header=0)\n",
    "df20_train = read_csv(file20_train,header=0)\n",
    "df21_train = read_csv(file21_train,header=0)"
   ]
  },
  {
   "cell_type": "code",
   "execution_count": 227,
   "metadata": {},
   "outputs": [],
   "source": [
    "# Test dfs\n",
    "df1_test = read_csv(file1_test,header=0)\n",
    "df2_test = read_csv(file2_test,header=0)\n",
    "df3_test = read_csv(file3_test,header=0)\n",
    "df4_test = read_csv(file4_test,header=0)\n",
    "df5_test = read_csv(file5_test,header=0)\n",
    "df6_test = read_csv(file6_test,header=0)\n",
    "df7_test = read_csv(file7_test,header=0)\n",
    "df8_test = read_csv(file8_test,header=0)\n",
    "df9_test = read_csv(file9_test,header=0)\n",
    "df10_test = read_csv(file10_test,header=0)\n",
    "df11_test = read_csv(file11_test,header=0)\n",
    "df12_test = read_csv(file12_test,header=0)\n",
    "df13_test = read_csv(file13_test,header=0)\n",
    "df14_test = read_csv(file14_test,header=0)\n",
    "df15_test = read_csv(file15_test,header=0)\n",
    "df16_test = read_csv(file16_test,header=0)\n",
    "df17_test = read_csv(file17_test,header=0)\n",
    "df18_test = read_csv(file18_test,header=0)\n",
    "df19_test = read_csv(file19_test,header=0)\n",
    "df20_test = read_csv(file20_test,header=0)\n",
    "df21_test = read_csv(file21_test,header=0)"
   ]
  },
  {
   "cell_type": "code",
   "execution_count": 228,
   "metadata": {},
   "outputs": [],
   "source": [
    "dataset = []\n",
    "target_1 = []\n",
    "\n",
    "def create_train_lists(df, tp):\n",
    "    \n",
    "    num_feature_in_tp = num_features_in_each_time_step\n",
    "    df1 = df[df.columns]\n",
    "    if (df1.shape[1] -1) > ((tp + 1) * (num_feature_in_tp + 1)):\n",
    "        df1 = df1.iloc[:,0:(tp + 1) * (num_feature_in_tp + 1)+1]\n",
    "    \n",
    "    Features = df1.loc[:, ~df1.columns.isin(['DX_0', 'DX_6', 'DX_12', 'DX_18', 'DX_24', 'DX_30', 'DX_36', 'DX_42', 'DX_48', 'DX_54', 'DX_60', 'DX_66', 'DX_72', 'DX_78', 'DX_84', 'DX_90', 'DX_96', 'DX_102', 'DX_108', 'DX_114', 'DX_120'])]\n",
    "    \n",
    "    Labels = df1.loc[:, df1.columns.isin(['DX_0', 'DX_6', 'DX_12', 'DX_18', 'DX_24', 'DX_30', 'DX_36', 'DX_42', 'DX_48', 'DX_54', 'DX_60', 'DX_66', 'DX_72', 'DX_78', 'DX_84', 'DX_90', 'DX_96', 'DX_102', 'DX_108', 'DX_114', 'DX_120'])]\n",
    "    \n",
    "    time_point = int((Features.shape[1] - 1) / num_feature_in_tp)\n",
    "    \n",
    "    for i in range(len(df1)):\n",
    "        dataset.append(list(Features.iloc[i,1:Features.shape[1]-num_feature_in_tp]))\n",
    "        target_1.append(Labels.iloc[i,1:])"
   ]
  },
  {
   "cell_type": "code",
   "execution_count": 229,
   "metadata": {},
   "outputs": [],
   "source": [
    "Testset = []\n",
    "target_2 = []\n",
    "target_2_prev = []\n",
    "\n",
    "def create_test_lists(df, tp):\n",
    "    \n",
    "    num_feature_in_tp = num_features_in_each_time_step\n",
    "    \n",
    "    Features = df.loc[:, ~df.columns.isin(['DX_0', 'DX_6', 'DX_12', 'DX_18', 'DX_24', 'DX_30', 'DX_36', 'DX_42', 'DX_48', 'DX_54', 'DX_60', 'DX_66', 'DX_72', 'DX_78', 'DX_84', 'DX_90', 'DX_96', 'DX_102', 'DX_108', 'DX_114', 'DX_120'])]\n",
    "    \n",
    "    Labels = df.loc[:, df.columns.isin(['DX_0', 'DX_6', 'DX_12', 'DX_18', 'DX_24', 'DX_30', 'DX_36', 'DX_42', 'DX_48', 'DX_54', 'DX_60', 'DX_66', 'DX_72', 'DX_78', 'DX_84', 'DX_90', 'DX_96', 'DX_102', 'DX_108', 'DX_114', 'DX_120'])]\n",
    "    \n",
    "    time_point = int((Features.shape[1] - 1) / num_feature_in_tp)\n",
    "    \n",
    "    if time_point <= tp:\n",
    "        print(\"less\",time_point)\n",
    "        return\n",
    "    index = (time_point - tp)\n",
    "    \n",
    "    for i in range(len(df)):\n",
    "        Testset.append(list(Features.iloc[i,1:tp*num_feature_in_tp+1]))\n",
    "        target_2.append(Labels.iloc[i,1:(tp+1)])\n",
    "        #target_2.append(Labels.iloc[i,(tp+1)])\n",
    "        target_2_prev.append(Labels.iloc[i,tp])"
   ]
  },
  {
   "cell_type": "code",
   "execution_count": 230,
   "metadata": {},
   "outputs": [],
   "source": [
    "def prepare_data():\n",
    "    global time_steps\n",
    "    #global num_features_in_each_time_step\n",
    "    time_steps = input(\"Please enter time points:\\n\")\n",
    "    time_steps = int(time_steps)\n",
    "    \n",
    "    #create_train_lists(df1_train,time_steps)\n",
    "    create_train_lists(df2_train,time_steps)\n",
    "    create_train_lists(df3_train,time_steps)\n",
    "    create_train_lists(df4_train,time_steps)\n",
    "    create_train_lists(df5_train,time_steps)\n",
    "    create_train_lists(df6_train,time_steps)\n",
    "    create_train_lists(df7_train,time_steps)\n",
    "    create_train_lists(df8_train,time_steps)\n",
    "    create_train_lists(df9_train,time_steps)\n",
    "    create_train_lists(df10_train,time_steps)\n",
    "    create_train_lists(df11_train,time_steps)\n",
    "    create_train_lists(df12_train,time_steps)\n",
    "    create_train_lists(df13_train,time_steps)\n",
    "    create_train_lists(df14_train,time_steps)\n",
    "    create_train_lists(df15_train,time_steps)\n",
    "    create_train_lists(df16_train,time_steps)\n",
    "    create_train_lists(df17_train,time_steps)\n",
    "    create_train_lists(df18_train,time_steps)\n",
    "    create_train_lists(df19_train,time_steps)\n",
    "    create_train_lists(df20_train,time_steps)\n",
    "    create_train_lists(df21_train,time_steps)\n",
    "    \n",
    "    padded1 = pad_sequences(dataset, padding='post',dtype='float', value=-1)\n",
    "    #print(padded1.shape)\n",
    "\n",
    "    num_samples = len(padded1)\n",
    "    num_features = padded1.shape[1]\n",
    "    #num_features_in_each_time_step = 12\n",
    "    time_steps = int(num_features / num_features_in_each_time_step)\n",
    "\n",
    "    # Input train data\n",
    "    data = padded1\n",
    "    # Output train data\n",
    "    #########################Change Here for ML###############################\n",
    "    padded_ = pad_sequences(target_1, padding='post',dtype='float', value=-1)\n",
    "    target = padded_\n",
    "    #target = np.array(target_1)\n",
    "\n",
    "\n",
    "    # data and target are reshaped into the 3D format expected by LSTMs, namely [samples, timesteps, features].\n",
    "    data = np.reshape(data, (num_samples, time_steps, num_features_in_each_time_step))\n",
    "    target = np.reshape(target, (num_samples, time_steps, 1))\n",
    "    print(\"Train Data: \", data.shape ,target.shape)\n",
    "    ###########################################################################################\n",
    "\n",
    "    create_test_lists(df2_test, time_steps)\n",
    "    create_test_lists(df3_test, time_steps)\n",
    "    create_test_lists(df4_test, time_steps)\n",
    "    create_test_lists(df5_test, time_steps)\n",
    "    create_test_lists(df6_test, time_steps)\n",
    "    create_test_lists(df7_test, time_steps)\n",
    "    create_test_lists(df8_test, time_steps)\n",
    "    create_test_lists(df9_test, time_steps)\n",
    "    create_test_lists(df10_test, time_steps)\n",
    "    create_test_lists(df11_test, time_steps)\n",
    "    create_test_lists(df12_test, time_steps)\n",
    "    create_test_lists(df13_test, time_steps)\n",
    "    create_test_lists(df14_test, time_steps)\n",
    "    create_test_lists(df15_test, time_steps)\n",
    "    create_test_lists(df16_test, time_steps)\n",
    "    create_test_lists(df17_test, time_steps)\n",
    "    create_test_lists(df18_test, time_steps)\n",
    "    create_test_lists(df19_test, time_steps)\n",
    "    create_test_lists(df20_test, time_steps)\n",
    "    create_test_lists(df21_test, time_steps)\n",
    "\n",
    "    padded2 = pad_sequences(Testset, padding='post',dtype='float', value=-1)\n",
    "    #print(padded2.shape)\n",
    "\n",
    "    T_num_samples = len(padded2)\n",
    "    # Input test data\n",
    "    Tdata = padded2\n",
    "    # Output test data\n",
    "    #Ttarget = padded2[:,num_features_in_each_time_step:num_features]\n",
    "    Ttarget = np.array(target_2)\n",
    "\n",
    "    # Test data and target are reshaped into the 3D format expected by LSTMs, namely [samples, timesteps, features].\n",
    "    Tdata = np.reshape(Tdata, (T_num_samples, time_steps, num_features_in_each_time_step))\n",
    "    #########################Change Here for ML###############################\n",
    "    Ttarget = np.reshape(Ttarget, (T_num_samples, time_steps, 1))\n",
    "    print(\"Test Data: \", Tdata.shape ,Ttarget.shape)\n",
    "    return data, target, Tdata, Ttarget"
   ]
  },
  {
   "cell_type": "code",
   "execution_count": 231,
   "metadata": {},
   "outputs": [
    {
     "name": "stdout",
     "output_type": "stream",
     "text": [
      "Please enter time points:\n",
      "4\n",
      "Train Data:  (901, 4, 8) (901, 4, 1)\n",
      "less 2\n",
      "less 3\n",
      "less 4\n",
      "Test Data:  (281, 4, 8) (281, 4, 1)\n"
     ]
    }
   ],
   "source": [
    "data, target, Tdata, Ttarget = prepare_data()"
   ]
  },
  {
   "cell_type": "code",
   "execution_count": 232,
   "metadata": {},
   "outputs": [],
   "source": [
    "X_train = data\n",
    "y_train = target\n",
    "\n",
    "X_test = Tdata\n",
    "y_test = Ttarget"
   ]
  },
  {
   "cell_type": "code",
   "execution_count": 233,
   "metadata": {},
   "outputs": [
    {
     "name": "stdout",
     "output_type": "stream",
     "text": [
      "X_train  (901, 4, 8)\n",
      "y_train  (901, 4, 1)\n",
      "X_test  (281, 4, 8)\n",
      "y_test  (281, 4, 1)\n",
      "time_steps  4\n"
     ]
    }
   ],
   "source": [
    "print(\"X_train \", X_train.shape)\n",
    "print(\"y_train \", y_train.shape)\n",
    "print(\"X_test \", X_test.shape)\n",
    "print(\"y_test \", y_test.shape)\n",
    "print(\"time_steps \", time_steps)"
   ]
  },
  {
   "cell_type": "code",
   "execution_count": 234,
   "metadata": {},
   "outputs": [],
   "source": [
    " # to panelize positive (converter) misclassification\n",
    "def binary_cross_entropy(y, yhat):\n",
    "    alpha = 0.7\n",
    "    loss = -(tf.math.reduce_mean((alpha * y * tf.math.log(yhat + 1e-6)) + ((1.0- alpha) * (1 - y) * tf.math.log(1 - yhat + 1e-6)), axis=-1))\n",
    "    \n",
    "    return loss"
   ]
  },
  {
   "cell_type": "code",
   "execution_count": 235,
   "metadata": {},
   "outputs": [],
   "source": [
    "# Create a BiGRU model\n",
    "def create_BiGRU_model(drout, L2):\n",
    "    batch_shape = (None, time_steps, num_features_in_each_time_step)\n",
    "    model = Sequential()\n",
    "    model.add(Masking(-1, batch_input_shape=batch_shape))\n",
    "    model.add(Bidirectional(GRU(32, input_shape=(None, num_features_in_each_time_step), activity_regularizer=l2(L2), return_sequences=True)))# activation = 'relu'\n",
    "    model.add(Dropout(drout))\n",
    "    model.add(Bidirectional(GRU(16, activity_regularizer=l2(L2), return_sequences=True, name='my_intermediate_layer')))#activation = 'tanh'\n",
    "    model.add(Dropout(drout))\n",
    "    model.add(Dense(1,  activation='sigmoid'))\n",
    "    \n",
    "    model.compile(loss= binary_cross_entropy, optimizer='adam',metrics=['accuracy'])#mean_absolute_error binary_crossentropy\n",
    "    return model"
   ]
  },
  {
   "cell_type": "code",
   "execution_count": 236,
   "metadata": {},
   "outputs": [
    {
     "name": "stdout",
     "output_type": "stream",
     "text": [
      "Epoch 1/70\n",
      "113/113 [==============================] - 12s 3ms/step - loss: 0.1849 - accuracy: 0.8611\n",
      "Epoch 2/70\n",
      "113/113 [==============================] - 0s 3ms/step - loss: 0.1017 - accuracy: 0.9351\n",
      "Epoch 3/70\n",
      "113/113 [==============================] - 0s 3ms/step - loss: 0.0801 - accuracy: 0.9427\n",
      "Epoch 4/70\n",
      "113/113 [==============================] - 0s 3ms/step - loss: 0.0765 - accuracy: 0.9404\n",
      "Epoch 5/70\n",
      "113/113 [==============================] - 0s 3ms/step - loss: 0.0650 - accuracy: 0.9565\n",
      "Epoch 6/70\n",
      "113/113 [==============================] - 0s 3ms/step - loss: 0.0670 - accuracy: 0.9525\n",
      "Epoch 7/70\n",
      "113/113 [==============================] - 0s 3ms/step - loss: 0.0606 - accuracy: 0.9559\n",
      "Epoch 8/70\n",
      "113/113 [==============================] - 0s 3ms/step - loss: 0.0628 - accuracy: 0.9510\n",
      "Epoch 9/70\n",
      "113/113 [==============================] - 0s 3ms/step - loss: 0.0598 - accuracy: 0.9478\n",
      "Epoch 10/70\n",
      "113/113 [==============================] - 0s 3ms/step - loss: 0.0557 - accuracy: 0.9564\n",
      "Epoch 11/70\n",
      "113/113 [==============================] - 0s 3ms/step - loss: 0.0552 - accuracy: 0.9661\n",
      "Epoch 12/70\n",
      "113/113 [==============================] - 0s 3ms/step - loss: 0.0536 - accuracy: 0.9511\n",
      "Epoch 13/70\n",
      "113/113 [==============================] - 0s 3ms/step - loss: 0.0546 - accuracy: 0.9578\n",
      "Epoch 14/70\n",
      "113/113 [==============================] - 0s 3ms/step - loss: 0.0556 - accuracy: 0.9574\n",
      "Epoch 15/70\n",
      "113/113 [==============================] - 0s 3ms/step - loss: 0.0526 - accuracy: 0.9635\n",
      "Epoch 16/70\n",
      "113/113 [==============================] - 0s 3ms/step - loss: 0.0473 - accuracy: 0.9636\n",
      "Epoch 17/70\n",
      "113/113 [==============================] - 0s 3ms/step - loss: 0.0487 - accuracy: 0.9619\n",
      "Epoch 18/70\n",
      "113/113 [==============================] - 0s 3ms/step - loss: 0.0512 - accuracy: 0.9570\n",
      "Epoch 19/70\n",
      "113/113 [==============================] - 0s 3ms/step - loss: 0.0533 - accuracy: 0.9569\n",
      "Epoch 20/70\n",
      "113/113 [==============================] - 0s 3ms/step - loss: 0.0490 - accuracy: 0.9619\n",
      "Epoch 21/70\n",
      "113/113 [==============================] - 0s 3ms/step - loss: 0.0522 - accuracy: 0.9578\n",
      "Epoch 22/70\n",
      "113/113 [==============================] - 0s 3ms/step - loss: 0.0470 - accuracy: 0.9639\n",
      "Epoch 23/70\n",
      "113/113 [==============================] - 0s 3ms/step - loss: 0.0541 - accuracy: 0.9529\n",
      "Epoch 24/70\n",
      "113/113 [==============================] - 0s 3ms/step - loss: 0.0489 - accuracy: 0.9586\n",
      "Epoch 25/70\n",
      "113/113 [==============================] - 0s 3ms/step - loss: 0.0447 - accuracy: 0.9697\n",
      "Epoch 26/70\n",
      "113/113 [==============================] - 0s 3ms/step - loss: 0.0473 - accuracy: 0.9558\n",
      "Epoch 27/70\n",
      "113/113 [==============================] - 0s 3ms/step - loss: 0.0439 - accuracy: 0.9647\n",
      "Epoch 28/70\n",
      "113/113 [==============================] - 0s 3ms/step - loss: 0.0450 - accuracy: 0.9647\n",
      "Epoch 29/70\n",
      "113/113 [==============================] - 0s 3ms/step - loss: 0.0483 - accuracy: 0.9541\n",
      "Epoch 30/70\n",
      "113/113 [==============================] - 0s 3ms/step - loss: 0.0464 - accuracy: 0.9651\n",
      "Epoch 31/70\n",
      "113/113 [==============================] - 0s 3ms/step - loss: 0.0416 - accuracy: 0.9630\n",
      "Epoch 32/70\n",
      "113/113 [==============================] - 0s 3ms/step - loss: 0.0439 - accuracy: 0.9672\n",
      "Epoch 33/70\n",
      "113/113 [==============================] - 0s 3ms/step - loss: 0.0451 - accuracy: 0.9607\n",
      "Epoch 34/70\n",
      "113/113 [==============================] - 0s 3ms/step - loss: 0.0429 - accuracy: 0.9643\n",
      "Epoch 35/70\n",
      "113/113 [==============================] - 0s 3ms/step - loss: 0.0401 - accuracy: 0.9625\n",
      "Epoch 36/70\n",
      "113/113 [==============================] - 0s 3ms/step - loss: 0.0442 - accuracy: 0.9615\n",
      "Epoch 37/70\n",
      "113/113 [==============================] - 0s 3ms/step - loss: 0.0409 - accuracy: 0.9692\n",
      "Epoch 38/70\n",
      "113/113 [==============================] - 0s 3ms/step - loss: 0.0443 - accuracy: 0.9636\n",
      "Epoch 39/70\n",
      "113/113 [==============================] - 0s 3ms/step - loss: 0.0428 - accuracy: 0.9658\n",
      "Epoch 40/70\n",
      "113/113 [==============================] - 0s 3ms/step - loss: 0.0413 - accuracy: 0.9683\n",
      "Epoch 41/70\n",
      "113/113 [==============================] - 0s 3ms/step - loss: 0.0353 - accuracy: 0.9721\n",
      "Epoch 42/70\n",
      "113/113 [==============================] - 0s 3ms/step - loss: 0.0396 - accuracy: 0.9680\n",
      "Epoch 43/70\n",
      "113/113 [==============================] - 0s 3ms/step - loss: 0.0425 - accuracy: 0.9656\n",
      "Epoch 44/70\n",
      "113/113 [==============================] - 0s 3ms/step - loss: 0.0407 - accuracy: 0.9695\n",
      "Epoch 45/70\n",
      "113/113 [==============================] - 0s 3ms/step - loss: 0.0420 - accuracy: 0.9616\n",
      "Epoch 46/70\n",
      "113/113 [==============================] - 0s 3ms/step - loss: 0.0407 - accuracy: 0.9639\n",
      "Epoch 47/70\n",
      "113/113 [==============================] - 0s 3ms/step - loss: 0.0467 - accuracy: 0.9524\n",
      "Epoch 48/70\n",
      "113/113 [==============================] - 0s 3ms/step - loss: 0.0419 - accuracy: 0.9638\n",
      "Epoch 49/70\n",
      "113/113 [==============================] - 0s 3ms/step - loss: 0.0383 - accuracy: 0.9724\n",
      "Epoch 50/70\n",
      "113/113 [==============================] - 0s 3ms/step - loss: 0.0365 - accuracy: 0.9675\n",
      "Epoch 51/70\n",
      "113/113 [==============================] - 0s 3ms/step - loss: 0.0417 - accuracy: 0.9613\n",
      "Epoch 52/70\n",
      "113/113 [==============================] - 0s 3ms/step - loss: 0.0349 - accuracy: 0.9724\n",
      "Epoch 53/70\n",
      "113/113 [==============================] - 0s 3ms/step - loss: 0.0437 - accuracy: 0.9607\n",
      "Epoch 54/70\n",
      "113/113 [==============================] - 0s 3ms/step - loss: 0.0391 - accuracy: 0.9709\n",
      "Epoch 55/70\n",
      "113/113 [==============================] - 0s 3ms/step - loss: 0.0398 - accuracy: 0.9673\n",
      "Epoch 56/70\n",
      "113/113 [==============================] - 0s 3ms/step - loss: 0.0421 - accuracy: 0.9653\n",
      "Epoch 57/70\n",
      "113/113 [==============================] - 0s 3ms/step - loss: 0.0405 - accuracy: 0.9580\n",
      "Epoch 58/70\n",
      "113/113 [==============================] - 0s 3ms/step - loss: 0.0398 - accuracy: 0.9642\n",
      "Epoch 59/70\n",
      "113/113 [==============================] - 0s 3ms/step - loss: 0.0372 - accuracy: 0.9712\n",
      "Epoch 60/70\n",
      "113/113 [==============================] - 0s 3ms/step - loss: 0.0382 - accuracy: 0.9683\n",
      "Epoch 61/70\n",
      "113/113 [==============================] - 0s 3ms/step - loss: 0.0351 - accuracy: 0.9721\n",
      "Epoch 62/70\n",
      "113/113 [==============================] - 0s 3ms/step - loss: 0.0414 - accuracy: 0.9680\n",
      "Epoch 63/70\n",
      "113/113 [==============================] - 0s 3ms/step - loss: 0.0402 - accuracy: 0.9662\n",
      "Epoch 64/70\n",
      "113/113 [==============================] - 0s 3ms/step - loss: 0.0372 - accuracy: 0.9733\n",
      "Epoch 65/70\n",
      "113/113 [==============================] - 0s 3ms/step - loss: 0.0356 - accuracy: 0.9732\n",
      "Epoch 66/70\n",
      "113/113 [==============================] - 0s 3ms/step - loss: 0.0387 - accuracy: 0.9716\n",
      "Epoch 67/70\n",
      "113/113 [==============================] - 0s 3ms/step - loss: 0.0426 - accuracy: 0.9634\n",
      "Epoch 68/70\n",
      "113/113 [==============================] - 0s 4ms/step - loss: 0.0414 - accuracy: 0.9675\n",
      "Epoch 69/70\n",
      "113/113 [==============================] - 0s 3ms/step - loss: 0.0340 - accuracy: 0.9736\n",
      "Epoch 70/70\n",
      "113/113 [==============================] - 0s 3ms/step - loss: 0.0356 - accuracy: 0.9722\n"
     ]
    }
   ],
   "source": [
    "# Old without demographic\n",
    "drout = 0.4\n",
    "L2 = 0.001\n",
    "epochs_ = 70\n",
    "batch_size_ = 8\n",
    "\n",
    "model = create_BiGRU_model(drout, L2)\n",
    "history = model.fit(X_train, y_train, epochs=epochs_, batch_size = batch_size_, shuffle = True)\n"
   ]
  },
  {
   "cell_type": "code",
   "execution_count": 237,
   "metadata": {},
   "outputs": [
    {
     "name": "stdout",
     "output_type": "stream",
     "text": [
      "113/113 [==============================] - 6s 783us/step - loss: 0.0347 - accuracy: 0.9727\n",
      "0.034667156636714935 0.972697377204895\n"
     ]
    }
   ],
   "source": [
    "#train\n",
    "train_loss, train_acc = model.evaluate(X_train, y_train, batch_size = batch_size_) \n",
    "print(train_loss, train_acc)"
   ]
  },
  {
   "cell_type": "code",
   "execution_count": 238,
   "metadata": {},
   "outputs": [
    {
     "data": {
      "text/plain": [
       "0.9590400577408877"
      ]
     },
     "execution_count": 238,
     "metadata": {},
     "output_type": "execute_result"
    }
   ],
   "source": [
    "# fbeata_function method to calculate f2 score\n",
    "def overall_fbeta_function(pred, actual):\n",
    "    \n",
    "    # reshape the output\n",
    "    if len(pred.shape) > 2:\n",
    "        pred = np.reshape(pred, (pred.shape[0], pred.shape[1]*pred.shape[2]))\n",
    "        actual = np.reshape(actual, (actual.shape[0], actual.shape[1]*actual.shape[2]))\n",
    "    \n",
    "    y = []\n",
    "    yhat = []\n",
    "    \n",
    "    for i in range(pred.shape[0]):\n",
    "        for j in range(pred.shape[1]):\n",
    "            if pred[i,j] > 0.5:\n",
    "                pred[i,j] = 1\n",
    "            else:\n",
    "                pred[i,j] = 0 \n",
    "    \n",
    "    for i in range(pred.shape[0]):\n",
    "        COUNTER = 0\n",
    "        while (COUNTER < actual.shape[1]):\n",
    "            if actual[i,COUNTER] != -1:\n",
    "                COUNTER+=1\n",
    "            else:\n",
    "                break\n",
    "        for j in range(COUNTER):\n",
    "            y.append(actual[i,j])\n",
    "            yhat.append(pred[i,j])\n",
    "    \n",
    "    return fbeta_score(y, yhat, beta=2)\n",
    "\n",
    "#train_pred = model.predict([X_train, demographic_train_data])\n",
    "train_pred = model.predict(X_train)\n",
    "overall_fbeta_function(train_pred, y_train)"
   ]
  },
  {
   "cell_type": "code",
   "execution_count": 239,
   "metadata": {},
   "outputs": [],
   "source": [
    "# to plot the performane of the model\n",
    "def plot_metric(history, metric):\n",
    "    train_metrics = history.history[metric]\n",
    "    #val_metrics = history.history['val_'+metric]\n",
    "    epochs = range(1, len(train_metrics) + 1)\n",
    "    plt.plot(epochs, train_metrics)\n",
    "    #plt.plot(epochs, val_metrics)\n",
    "    plt.title('Training and validation '+ metric)\n",
    "    plt.xlabel(\"Epochs\")\n",
    "    plt.ylabel(metric)\n",
    "    plt.legend([\"train_\"+metric, 'val_'+metric])\n",
    "    plt.show()"
   ]
  },
  {
   "cell_type": "code",
   "execution_count": 240,
   "metadata": {},
   "outputs": [
    {
     "data": {
      "image/png": "[encoded data removed]",
      "text/plain": [
       "<Figure size 432x288 with 1 Axes>"
      ]
     },
     "metadata": {},
     "output_type": "display_data"
    }
   ],
   "source": [
    "# to compare train accuracy and validation accuracy for overfitting verification\n",
    "plot_metric(history, 'accuracy')"
   ]
  },
  {
   "cell_type": "code",
   "execution_count": 241,
   "metadata": {},
   "outputs": [
    {
     "data": {
      "image/png": "[encoded data removed]",
      "text/plain": [
       "<Figure size 432x288 with 1 Axes>"
      ]
     },
     "metadata": {},
     "output_type": "display_data"
    }
   ],
   "source": [
    "# to compare train loss and validation loss for overfitting verification\n",
    "plot_metric(history, 'loss')"
   ]
  },
  {
   "cell_type": "code",
   "execution_count": 242,
   "metadata": {
    "scrolled": true
   },
   "outputs": [
    {
     "name": "stdout",
     "output_type": "stream",
     "text": [
      "36/36 [==============================] - 0s 826us/step - loss: 0.0848 - accuracy: 0.9546\n",
      "0.08478855341672897 0.9546263217926025\n"
     ]
    }
   ],
   "source": [
    "#test\n",
    "score, acc = model.evaluate(X_test, y_test, batch_size = batch_size_) \n",
    "print(score, acc)\n",
    "#score, acc = model.evaluate([X_test, demographic_test_data], y_test, batch_size = batch_size_) \n",
    "#print(score, acc)"
   ]
  },
  {
   "cell_type": "code",
   "execution_count": 243,
   "metadata": {},
   "outputs": [
    {
     "name": "stdout",
     "output_type": "stream",
     "text": [
      "real shape= (281, 4, 1) pred shape (281, 4, 1)\n"
     ]
    }
   ],
   "source": [
    "pred = model.predict(X_test)\n",
    "#pred = model.predict([X_test, demographic_test_data])\n",
    "print('real shape=', y_test.shape, 'pred shape', pred.shape)"
   ]
  },
  {
   "cell_type": "code",
   "execution_count": 244,
   "metadata": {},
   "outputs": [],
   "source": [
    "# reshape the output\n",
    "pred = np.reshape(pred, (pred.shape[0], pred.shape[1]*pred.shape[2]))\n",
    "real = np.reshape(y_test, (y_test.shape[0], y_test.shape[1]*y_test.shape[2]))\n",
    "#real = y_test\n",
    "new_df = pd.DataFrame(pred)\n",
    "new_df2 = pd.DataFrame(real)"
   ]
  },
  {
   "cell_type": "code",
   "execution_count": 245,
   "metadata": {},
   "outputs": [],
   "source": [
    "'''\n",
    "T = []\n",
    "for i in range(1, time_steps):\n",
    "    dx = num_features_in_each_time_step * i - 1\n",
    "    T.append(dx)\n",
    "T\n",
    "\n",
    "prediction = new_df[T]\n",
    "prediction = prediction.values\n",
    "prediction\n",
    "'''\n",
    "prediction = new_df\n",
    "prediction = prediction.values"
   ]
  },
  {
   "cell_type": "code",
   "execution_count": 246,
   "metadata": {},
   "outputs": [
    {
     "data": {
      "text/plain": [
       "array([[0., 0., 0., 0.],\n",
       "       [1., 1., 1., 1.],\n",
       "       [1., 1., 1., 1.],\n",
       "       ...,\n",
       "       [0., 0., 0., 0.],\n",
       "       [0., 0., 0., 0.],\n",
       "       [0., 0., 0., 0.]], dtype=float32)"
      ]
     },
     "execution_count": 246,
     "metadata": {},
     "output_type": "execute_result"
    }
   ],
   "source": [
    "for i in range(prediction.shape[0]):\n",
    "    for j in range(prediction.shape[1]):\n",
    "        if prediction[i,j] > 0.5:\n",
    "            prediction[i,j] = 1\n",
    "        else:\n",
    "            prediction[i,j] = 0\n",
    "        \n",
    "ddddffff = pd.DataFrame(prediction)\n",
    "ddddffff\n",
    "'''\n",
    "for i in range(len(prediction)):\n",
    "    if prediction[i] > 0.5:\n",
    "        prediction[i] = 1\n",
    "    else:\n",
    "        prediction[i] = 0\n",
    "ddddffff = pd.DataFrame(prediction)\n",
    "ddddffff\n",
    "'''\n",
    "prediction"
   ]
  },
  {
   "cell_type": "code",
   "execution_count": 247,
   "metadata": {},
   "outputs": [
    {
     "data": {
      "text/plain": [
       "array([[0., 1., 1., 1.],\n",
       "       [1., 1., 1., 1.],\n",
       "       [1., 1., 1., 1.],\n",
       "       ...,\n",
       "       [0., 0., 0., 0.],\n",
       "       [0., 0., 0., 0.],\n",
       "       [0., 0., 0., 0.]])"
      ]
     },
     "execution_count": 247,
     "metadata": {},
     "output_type": "execute_result"
    }
   ],
   "source": [
    "'''\n",
    "ground_T = new_df2[T]\n",
    "ground_T = ground_T.values\n",
    "ground_T\n",
    "'''\n",
    "ground_T = new_df2\n",
    "ground_T = ground_T.values\n",
    "ground_T"
   ]
  },
  {
   "cell_type": "code",
   "execution_count": 248,
   "metadata": {},
   "outputs": [
    {
     "name": "stdout",
     "output_type": "stream",
     "text": [
      "Real_next_time_point 1\n",
      "Real_prev_time_point 1\n",
      "\n",
      "Pred_next_time_point 0\n",
      "----------------------\n",
      "Real_next_time_point 1\n",
      "Real_prev_time_point 0\n",
      "\n",
      "Pred_next_time_point 0\n",
      "----------------------\n",
      "Real_next_time_point 1\n",
      "Real_prev_time_point 0\n",
      "\n",
      "Pred_next_time_point 0\n",
      "----------------------\n",
      "Real_next_time_point 1\n",
      "Real_prev_time_point 0\n",
      "\n",
      "Pred_next_time_point 0\n",
      "----------------------\n",
      "Real_next_time_point 1\n",
      "Real_prev_time_point 0\n",
      "\n",
      "Pred_next_time_point 0\n",
      "----------------------\n",
      "Real_next_time_point 0\n",
      "Real_prev_time_point 0\n",
      "\n",
      "Pred_next_time_point 1\n",
      "----------------------\n",
      "Real_next_time_point 1\n",
      "Real_prev_time_point 0\n",
      "\n",
      "Pred_next_time_point 0\n",
      "----------------------\n",
      "Real_next_time_point 0\n",
      "Real_prev_time_point 0\n",
      "\n",
      "Pred_next_time_point 1\n",
      "----------------------\n",
      "Real_next_time_point 0\n",
      "Real_prev_time_point 0\n",
      "\n",
      "Pred_next_time_point 1\n",
      "----------------------\n",
      "Real_next_time_point 1\n",
      "Real_prev_time_point 0\n",
      "\n",
      "Pred_next_time_point 0\n",
      "----------------------\n",
      "Real_next_time_point 0\n",
      "Real_prev_time_point 0\n",
      "\n",
      "Pred_next_time_point 1\n",
      "----------------------\n",
      "Real_next_time_point 1\n",
      "Real_prev_time_point 0\n",
      "\n",
      "Pred_next_time_point 0\n",
      "----------------------\n",
      "Real_next_time_point 1\n",
      "Real_prev_time_point 1\n",
      "\n",
      "Pred_next_time_point 0\n",
      "----------------------\n",
      "Real_next_time_point 1\n",
      "Real_prev_time_point 1\n",
      "\n",
      "Pred_next_time_point 0\n",
      "----------------------\n",
      "Real_next_time_point 0\n",
      "Real_prev_time_point 0\n",
      "\n",
      "Pred_next_time_point 1\n",
      "----------------------\n",
      "Real_next_time_point 1\n",
      "Real_prev_time_point 1\n",
      "\n",
      "Pred_next_time_point 0\n",
      "----------------------\n",
      "Real_next_time_point 1\n",
      "Real_prev_time_point 1\n",
      "\n",
      "Pred_next_time_point 0\n",
      "----------------------\n",
      "Real_next_time_point 1\n",
      "Real_prev_time_point 0\n",
      "\n",
      "Pred_next_time_point 0\n",
      "----------------------\n",
      "Real_next_time_point 0\n",
      "Real_prev_time_point 0\n",
      "\n",
      "Pred_next_time_point 1\n",
      "----------------------\n",
      "Real_next_time_point 1\n",
      "Real_prev_time_point 1\n",
      "\n",
      "Pred_next_time_point 0\n",
      "----------------------\n",
      "Real_next_time_point 1\n",
      "Real_prev_time_point 1\n",
      "\n",
      "Pred_next_time_point 0\n",
      "----------------------\n",
      "Real_next_time_point 0\n",
      "Real_prev_time_point 0\n",
      "\n",
      "Pred_next_time_point 1\n",
      "----------------------\n",
      "Real_next_time_point 1\n",
      "Real_prev_time_point 1\n",
      "\n",
      "Pred_next_time_point 0\n",
      "----------------------\n",
      "Real_next_time_point 1\n",
      "Real_prev_time_point 0\n",
      "\n",
      "Pred_next_time_point 0\n",
      "----------------------\n",
      "Real_next_time_point 0\n",
      "Real_prev_time_point 0\n",
      "\n",
      "Pred_next_time_point 1\n",
      "----------------------\n",
      "Real_next_time_point 1\n",
      "Real_prev_time_point 0\n",
      "\n",
      "Pred_next_time_point 0\n",
      "----------------------\n",
      "Real_next_time_point 1\n",
      "Real_prev_time_point 1\n",
      "\n",
      "Pred_next_time_point 0\n",
      "----------------------\n",
      "Real_next_time_point 1\n",
      "Real_prev_time_point 0\n",
      "\n",
      "Pred_next_time_point 0\n",
      "----------------------\n",
      "Real_next_time_point 1\n",
      "Real_prev_time_point 0\n",
      "\n",
      "Pred_next_time_point 0\n",
      "----------------------\n",
      "Number of true predictions = 252\n",
      "Number of all samples = 281\n",
      "Number of converted samples = 14\n",
      "Number of true predictions for converters= 2\n",
      "Accuracy = 0.896797153024911\n"
     ]
    }
   ],
   "source": [
    "second_index = prediction.shape[1]-1\n",
    "correct_prediction_counter = 0\n",
    "num_of_samples_converted_from_prev_to_next_time_point = 0\n",
    "correct_converter_prediction = 0\n",
    "for i in range(len(prediction)):\n",
    "    #if int(target_2_prev[i]) == 0 and int(ground_T[i][second_index]) == 1:\n",
    "    if int(ground_T[i][second_index-1]) == 0 and int(ground_T[i][second_index]) == 1:\n",
    "        num_of_samples_converted_from_prev_to_next_time_point+=1\n",
    "        if (prediction[i][second_index] == ground_T[i][second_index]):\n",
    "            correct_converter_prediction += 1\n",
    "    if (prediction[i][second_index] == ground_T[i][second_index]):\n",
    "        correct_prediction_counter = correct_prediction_counter +1\n",
    "    else:\n",
    "        print(\"Real_next_time_point\", int(ground_T[i][second_index]))\n",
    "        print(\"Real_prev_time_point\", int(ground_T[i][second_index-1]))\n",
    "        print()\n",
    "        print(\"Pred_next_time_point\", int(prediction[i][second_index]))\n",
    "        print(\"----------------------\")\n",
    "print(\"Number of true predictions =\", correct_prediction_counter)\n",
    "print(\"Number of all samples =\", len(prediction))\n",
    "print(\"Number of converted samples =\", num_of_samples_converted_from_prev_to_next_time_point)\n",
    "print(\"Number of true predictions for converters=\", correct_converter_prediction)\n",
    "print(\"Accuracy =\", correct_prediction_counter/len(prediction))"
   ]
  },
  {
   "cell_type": "code",
   "execution_count": 249,
   "metadata": {},
   "outputs": [
    {
     "data": {
      "text/plain": [
       "array([1., 1., 1., 1., 1., 1., 0., 1., 1., 1., 1., 1., 1., 1., 1., 1., 1.,\n",
       "       1., 1., 1., 1., 0., 1., 0., 1., 1., 0., 1., 1., 1., 1., 1., 0., 1.,\n",
       "       1., 1., 1., 1., 1., 0., 1., 1., 1., 1., 1., 1., 1., 1., 1., 1., 1.,\n",
       "       0., 0., 0., 1., 1., 1., 1., 1., 1., 1., 1., 0., 1., 1., 1., 0., 0.,\n",
       "       1., 0., 0., 0., 0., 1., 0., 0., 0., 0., 0., 0., 0., 0., 0., 1., 1.,\n",
       "       0., 0., 0., 0., 1., 0., 1., 0., 1., 0., 1., 0., 0., 0., 1., 1., 0.,\n",
       "       0., 0., 0., 0., 1., 0., 0., 0., 0., 1., 0., 0., 0., 1., 1., 0., 0.,\n",
       "       0., 0., 0., 0., 0., 0., 0., 0., 1., 1., 1., 0., 0., 0., 0., 0., 1.,\n",
       "       0., 0., 0., 0., 1., 1., 0., 0., 0., 0., 1., 0., 0., 1., 0., 0., 0.,\n",
       "       0., 0., 0., 1., 0., 1., 0., 0., 0., 0., 0., 0., 1., 1., 1., 0., 0.,\n",
       "       0., 1., 1., 1., 1., 0., 0., 0., 0., 0., 1., 0., 0., 0., 0., 0., 0.,\n",
       "       1., 1., 0., 0., 1., 1., 0., 0., 0., 0., 0., 0., 0., 0., 1., 0., 0.,\n",
       "       1., 0., 0., 0., 0., 1., 0., 0., 0., 0., 0., 0., 0., 0., 0., 0., 0.,\n",
       "       1., 1., 0., 0., 0., 0., 1., 1., 1., 0., 0., 0., 1., 1., 0., 0., 0.,\n",
       "       0., 0., 0., 1., 0., 0., 0., 1., 1., 0., 0., 0., 1., 0., 0., 0., 0.,\n",
       "       0., 0., 1., 0., 0., 0., 1., 0., 0., 0., 0., 0., 1., 0., 0., 0., 0.,\n",
       "       1., 1., 0., 0., 0., 1., 0., 0., 0.])"
      ]
     },
     "execution_count": 249,
     "metadata": {},
     "output_type": "execute_result"
    }
   ],
   "source": [
    "predicted_l = np.zeros((len(prediction)))\n",
    "real_l = np.zeros((len(ground_T)))\n",
    "dx = prediction.shape[1] - 1\n",
    "for i in range(len(prediction)):\n",
    "    predicted_l[i] = prediction[i,dx]\n",
    "predicted_l\n",
    "for i in range(len(ground_T)):\n",
    "    real_l[i] = ground_T[i,dx]\n",
    "real_l"
   ]
  },
  {
   "cell_type": "code",
   "execution_count": 250,
   "metadata": {},
   "outputs": [
    {
     "data": {
      "text/plain": [
       "array([[161,   8],\n",
       "       [ 21,  91]], dtype=int64)"
      ]
     },
     "execution_count": 250,
     "metadata": {},
     "output_type": "execute_result"
    }
   ],
   "source": [
    "def plot_confusion_matrix(data, labels, output_filename):\n",
    "    \"\"\"Plot confusion matrix using heatmap.\n",
    " \n",
    "    Args:\n",
    "        data (list of list): List of lists with confusion matrix data.\n",
    "        labels (list): Labels which will be plotted across x and y axis.\n",
    "        output_filename (str): Path to output file.\n",
    " \n",
    "    \"\"\"\n",
    "    seaborn.set(color_codes=True)\n",
    "    plt.figure(1, figsize=(9, 6))\n",
    " \n",
    "    plt.title(\"Confusion Matrix\")\n",
    " \n",
    "    seaborn.set(font_scale=1.5)\n",
    "    ax = seaborn.heatmap(data, annot=True, fmt=\"d\", cmap=\"YlGnBu\", cbar_kws={'label': 'Scale'})\n",
    " \n",
    "    ax.set_xticklabels(labels)\n",
    "    ax.set_yticklabels(labels)\n",
    " \n",
    "    ax.set(ylabel=\"True Label\", xlabel=\"Predicted Label\")\n",
    " \n",
    "    plt.show()\n",
    "    plt.savefig(output_filename, bbox_inches='tight', dpi=300)\n",
    "    plt.close()\n",
    "\n",
    "CM = confusion_matrix(real_l, predicted_l, labels=[0,1])\n",
    "CM"
   ]
  },
  {
   "cell_type": "code",
   "execution_count": 251,
   "metadata": {},
   "outputs": [
    {
     "data": {
      "image/png": "[encoded data removed]",
      "text/plain": [
       "<Figure size 648x432 with 2 Axes>"
      ]
     },
     "metadata": {},
     "output_type": "display_data"
    }
   ],
   "source": [
    "labels = [\"Non-Converter\", \"Converter\"]\n",
    "plot_confusion_matrix(CM, labels, \"confusion_matrix.png\") "
   ]
  },
  {
   "cell_type": "code",
   "execution_count": 252,
   "metadata": {},
   "outputs": [
    {
     "name": "stdout",
     "output_type": "stream",
     "text": [
      "sensitivity 0.8125\n",
      "specificity 0.9526627218934911\n"
     ]
    }
   ],
   "source": [
    "sensitivity = CM[1,1] / (CM[1,1] + CM[1,0])\n",
    "specificity = CM[0,0] / (CM[0,0] + CM[0,1])\n",
    "print('sensitivity', sensitivity)\n",
    "print('specificity', specificity)"
   ]
  },
  {
   "cell_type": "code",
   "execution_count": 253,
   "metadata": {},
   "outputs": [
    {
     "data": {
      "text/plain": [
       "0.8318098720292505"
      ]
     },
     "execution_count": 253,
     "metadata": {},
     "output_type": "execute_result"
    }
   ],
   "source": [
    "\n",
    "#fbeta_score(y_test[:,3], pre, beta=0.5)\n",
    "fbeta_score(ground_T[:, 3], prediction[:, 3], beta=2)"
   ]
  },
  {
   "cell_type": "code",
   "execution_count": 254,
   "metadata": {},
   "outputs": [
    {
     "data": {
      "text/plain": [
       "0.8625592417061612"
      ]
     },
     "execution_count": 254,
     "metadata": {},
     "output_type": "execute_result"
    }
   ],
   "source": [
    "f1_score(ground_T[:, 3], prediction[:, 3])"
   ]
  },
  {
   "cell_type": "code",
   "execution_count": 255,
   "metadata": {},
   "outputs": [
    {
     "data": {
      "text/plain": [
       "0.896797153024911"
      ]
     },
     "execution_count": 255,
     "metadata": {},
     "output_type": "execute_result"
    }
   ],
   "source": [
    "accuracy_score(ground_T[:, 3], prediction[:, 3])"
   ]
  },
  {
   "cell_type": "code",
   "execution_count": 256,
   "metadata": {},
   "outputs": [
    {
     "data": {
      "text/plain": [
       "0.8825813609467456"
      ]
     },
     "execution_count": 256,
     "metadata": {},
     "output_type": "execute_result"
    }
   ],
   "source": [
    "roc_auc_score(ground_T[:, 3], prediction[:, 3])"
   ]
  },
  {
   "cell_type": "code",
   "execution_count": 257,
   "metadata": {},
   "outputs": [
    {
     "data": {
      "text/plain": [
       "[279, 273, 269, 252]"
      ]
     },
     "execution_count": 257,
     "metadata": {},
     "output_type": "execute_result"
    }
   ],
   "source": [
    "prediction\n",
    "\n",
    "f1=0\n",
    "f2=0\n",
    "f3=0\n",
    "f4=0\n",
    "f_list =[f1,f2,f3,f4]\n",
    "\n",
    "t1=0\n",
    "t2=0\n",
    "t3=0\n",
    "t4=0\n",
    "t_list =[t1,t2,t3,t4]\n",
    "\n",
    "for i in range(prediction.shape[0]):\n",
    "    for j in range(prediction.shape[1]):\n",
    "        if prediction[i][j] == ground_T[i][j]:\n",
    "            t_list[j] +=1\n",
    "        else:\n",
    "            f_list[j] +=1\n",
    "            \n",
    "t_list"
   ]
  },
  {
   "cell_type": "code",
   "execution_count": 258,
   "metadata": {},
   "outputs": [
    {
     "data": {
      "text/plain": [
       "[2, 8, 12, 29]"
      ]
     },
     "execution_count": 258,
     "metadata": {},
     "output_type": "execute_result"
    }
   ],
   "source": [
    "f_list"
   ]
  },
  {
   "cell_type": "code",
   "execution_count": 259,
   "metadata": {},
   "outputs": [
    {
     "name": "stdout",
     "output_type": "stream",
     "text": [
      "Non converter =  169\n",
      "converter =  112\n"
     ]
    }
   ],
   "source": [
    "# To determine number of converter and nonconverters in train and test dataset\n",
    "def label_counter(label):\n",
    "    \n",
    "    # reshape the output\n",
    "    label = np.reshape(label, (label.shape[0], label.shape[1]*label.shape[2]))\n",
    "    \n",
    "    y = np.zeros(label.shape[0])\n",
    "    \n",
    "    for i in range(label.shape[0]):\n",
    "        COUNTER = 0\n",
    "        while (COUNTER < label.shape[1]):\n",
    "            if label[i,COUNTER] != -1:\n",
    "                COUNTER+=1\n",
    "            else:\n",
    "                break\n",
    "        y[i] = label[i,COUNTER-1]\n",
    "    \n",
    "    converter = 0\n",
    "    nonconverter = 0\n",
    "    \n",
    "    for i in range(len(y)):\n",
    "        if y[i] == 1:\n",
    "            converter +=1\n",
    "        else:\n",
    "            nonconverter +=1\n",
    "    \n",
    "    return nonconverter, converter\n",
    "\n",
    "#non_converter_count , converter_count = label_counter(y_train)\n",
    "non_converter_count , converter_count = label_counter(y_test)\n",
    "print('Non converter = ', non_converter_count)\n",
    "print('converter = ', converter_count)"
   ]
  },
  {
   "cell_type": "code",
   "execution_count": 260,
   "metadata": {},
   "outputs": [],
   "source": [
    "# Table of results\n",
    "metrics_results_df = pd.DataFrame(columns = ['Metrics', 'Bi-GRU without demographic'])\n",
    "\n",
    "metrics_results_df.loc[len(metrics_results_df)] = ['Accuracy (Test)', round(accuracy_score(ground_T[:, 3], prediction[:, 3]), 3)]\n",
    "metrics_results_df.loc[len(metrics_results_df)] = ['ROC_AUC (Test)', round(roc_auc_score(ground_T[:, 3], prediction[:, 3]), 3)]\n",
    "metrics_results_df.loc[len(metrics_results_df)] = ['F-2 (Test)', round(fbeta_score(ground_T[:, 3], prediction[:, 3], beta=2), 3)] \n",
    "metrics_results_df.loc[len(metrics_results_df)] = ['Sensitivity (Test)', round(sensitivity, 3)] \n",
    "metrics_results_df.loc[len(metrics_results_df)] = ['Specificity (Test)', round(specificity, 3)]  \n",
    "metrics_results_df.loc[len(metrics_results_df)] = ['Overall accuracy (Test)', round(acc, 3)]\n",
    "metrics_results_df.loc[len(metrics_results_df)] = ['Overall accuracy (Train)', round(train_acc, 3)]\n",
    "metrics_results_df.loc[len(metrics_results_df)] = ['Overall loss (Test)', round(score, 3)]\n",
    "metrics_results_df.loc[len(metrics_results_df)] = ['Overall loss (Train)', round(train_loss, 3)]\n",
    "metrics_results_df.loc[len(metrics_results_df)] = ['Overall F2 (Test)', round(overall_fbeta_function(prediction, ground_T), 3)]\n",
    "metrics_results_df.loc[len(metrics_results_df)] = ['Overall F2 (Train)', round(overall_fbeta_function(train_pred, y_train), 3)]"
   ]
  },
  {
   "cell_type": "code",
   "execution_count": 261,
   "metadata": {},
   "outputs": [
    {
     "data": {
      "text/html": [
       "<div>\n",
       "<style scoped>\n",
       "    .dataframe tbody tr th:only-of-type {\n",
       "        vertical-align: middle;\n",
       "    }\n",
       "\n",
       "    .dataframe tbody tr th {\n",
       "        vertical-align: top;\n",
       "    }\n",
       "\n",
       "    .dataframe thead th {\n",
       "        text-align: right;\n",
       "    }\n",
       "</style>\n",
       "<table border=\"1\" class=\"dataframe\">\n",
       "  <thead>\n",
       "    <tr style=\"text-align: right;\">\n",
       "      <th></th>\n",
       "      <th>Metrics</th>\n",
       "      <th>Bi-GRU without demographic</th>\n",
       "    </tr>\n",
       "  </thead>\n",
       "  <tbody>\n",
       "    <tr>\n",
       "      <th>0</th>\n",
       "      <td>Accuracy (Test)</td>\n",
       "      <td>0.897</td>\n",
       "    </tr>\n",
       "    <tr>\n",
       "      <th>1</th>\n",
       "      <td>ROC_AUC (Test)</td>\n",
       "      <td>0.883</td>\n",
       "    </tr>\n",
       "    <tr>\n",
       "      <th>2</th>\n",
       "      <td>F-2 (Test)</td>\n",
       "      <td>0.832</td>\n",
       "    </tr>\n",
       "    <tr>\n",
       "      <th>3</th>\n",
       "      <td>Sensitivity (Test)</td>\n",
       "      <td>0.812</td>\n",
       "    </tr>\n",
       "    <tr>\n",
       "      <th>4</th>\n",
       "      <td>Specificity (Test)</td>\n",
       "      <td>0.953</td>\n",
       "    </tr>\n",
       "    <tr>\n",
       "      <th>5</th>\n",
       "      <td>Overall accuracy (Test)</td>\n",
       "      <td>0.955</td>\n",
       "    </tr>\n",
       "    <tr>\n",
       "      <th>6</th>\n",
       "      <td>Overall accuracy (Train)</td>\n",
       "      <td>0.973</td>\n",
       "    </tr>\n",
       "    <tr>\n",
       "      <th>7</th>\n",
       "      <td>Overall loss (Test)</td>\n",
       "      <td>0.085</td>\n",
       "    </tr>\n",
       "    <tr>\n",
       "      <th>8</th>\n",
       "      <td>Overall loss (Train)</td>\n",
       "      <td>0.035</td>\n",
       "    </tr>\n",
       "    <tr>\n",
       "      <th>9</th>\n",
       "      <td>Overall F2 (Test)</td>\n",
       "      <td>0.902</td>\n",
       "    </tr>\n",
       "    <tr>\n",
       "      <th>10</th>\n",
       "      <td>Overall F2 (Train)</td>\n",
       "      <td>0.959</td>\n",
       "    </tr>\n",
       "  </tbody>\n",
       "</table>\n",
       "</div>"
      ],
      "text/plain": [
       "                     Metrics  Bi-GRU without demographic\n",
       "0            Accuracy (Test)                       0.897\n",
       "1             ROC_AUC (Test)                       0.883\n",
       "2                 F-2 (Test)                       0.832\n",
       "3         Sensitivity (Test)                       0.812\n",
       "4         Specificity (Test)                       0.953\n",
       "5    Overall accuracy (Test)                       0.955\n",
       "6   Overall accuracy (Train)                       0.973\n",
       "7        Overall loss (Test)                       0.085\n",
       "8       Overall loss (Train)                       0.035\n",
       "9          Overall F2 (Test)                       0.902\n",
       "10        Overall F2 (Train)                       0.959"
      ]
     },
     "execution_count": 261,
     "metadata": {},
     "output_type": "execute_result"
    }
   ],
   "source": [
    "metrics_results_df"
   ]
  },
  {
   "cell_type": "code",
   "execution_count": 266,
   "metadata": {},
   "outputs": [
    {
     "data": {
      "image/png": "[encoded data removed]",
      "text/plain": [
       "<Figure size 432x288 with 1 Axes>"
      ]
     },
     "metadata": {},
     "output_type": "display_data"
    }
   ],
   "source": [
    "#Grouped Bar Plots\n",
    "import numpy as np\n",
    "Months = (['Accuracy','AUC ','F-2', 'Sensitivity ', 'Specificity '])\n",
    "Proposed= [0.915, 0.910, 0.877, 0.874, 0.944] \n",
    "old= [0.906, 0.895, 0.854, 0.839, 0.950]\n",
    "\n",
    "er1 = [0.005, 0.001, 0.008, 0.001, 0.004]\n",
    "er2 = [0.008, 0.006, 0.004, 0.000, 0.013]\n",
    "width = 0.2\n",
    "x = np.arange(len(Months))\n",
    "plt.bar(x, Proposed, width, label='Bi-GRU_Embedding', yerr=er1)\n",
    "plt.bar(x+0.2, old, width, label='Bi-GRU_Without_Embedding', yerr=er2)\n",
    "\n",
    "plt.xlabel('Metric')\n",
    "plt.ylabel('Value')\n",
    "plt.xticks(x, Months, rotation=45)\n",
    "plt.legend(loc =\"lower right\")\n",
    "#plt.title('Grouped Bar chart for the vistors of waterpark')\n",
    "plt.show()"
   ]
  },
  {
   "cell_type": "code",
   "execution_count": null,
   "metadata": {},
   "outputs": [],
   "source": []
  }
 ],
 "metadata": {
  "kernelspec": {
   "display_name": "Python 3",
   "language": "python",
   "name": "python3"
  },
  "language_info": {
   "codemirror_mode": {
    "name": "ipython",
    "version": 3
   },
   "file_extension": ".py",
   "mimetype": "text/x-python",
   "name": "python",
   "nbconvert_exporter": "python",
   "pygments_lexer": "ipython3",
   "version": "3.8.5"
  }
 },
 "nbformat": 4,
 "nbformat_minor": 4
}
